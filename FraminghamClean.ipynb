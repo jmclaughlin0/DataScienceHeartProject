{
 "cells": [
  {
   "cell_type": "code",
   "execution_count": 90,
   "metadata": {},
   "outputs": [],
   "source": [
    "import pandas as pd\n",
    "import numpy as np\n",
    "import seaborn as sns\n",
    "import matplotlib.pyplot as plt\n",
    "import sklearn as sk"
   ]
  },
  {
   "cell_type": "code",
   "execution_count": 91,
   "metadata": {},
   "outputs": [],
   "source": [
    "df = pd.read_csv('frmgham2.csv')"
   ]
  },
  {
   "cell_type": "code",
   "execution_count": 92,
   "metadata": {},
   "outputs": [
    {
     "data": {
      "text/html": [
       "<div>\n",
       "<style scoped>\n",
       "    .dataframe tbody tr th:only-of-type {\n",
       "        vertical-align: middle;\n",
       "    }\n",
       "\n",
       "    .dataframe tbody tr th {\n",
       "        vertical-align: top;\n",
       "    }\n",
       "\n",
       "    .dataframe thead th {\n",
       "        text-align: right;\n",
       "    }\n",
       "</style>\n",
       "<table border=\"1\" class=\"dataframe\">\n",
       "  <thead>\n",
       "    <tr style=\"text-align: right;\">\n",
       "      <th></th>\n",
       "      <th>RANDID</th>\n",
       "      <th>SEX</th>\n",
       "      <th>TOTCHOL</th>\n",
       "      <th>AGE</th>\n",
       "      <th>SYSBP</th>\n",
       "      <th>DIABP</th>\n",
       "      <th>CURSMOKE</th>\n",
       "      <th>CIGPDAY</th>\n",
       "      <th>BMI</th>\n",
       "      <th>DIABETES</th>\n",
       "      <th>...</th>\n",
       "      <th>CVD</th>\n",
       "      <th>HYPERTEN</th>\n",
       "      <th>TIMEAP</th>\n",
       "      <th>TIMEMI</th>\n",
       "      <th>TIMEMIFC</th>\n",
       "      <th>TIMECHD</th>\n",
       "      <th>TIMESTRK</th>\n",
       "      <th>TIMECVD</th>\n",
       "      <th>TIMEDTH</th>\n",
       "      <th>TIMEHYP</th>\n",
       "    </tr>\n",
       "  </thead>\n",
       "  <tbody>\n",
       "    <tr>\n",
       "      <th>0</th>\n",
       "      <td>2448</td>\n",
       "      <td>1</td>\n",
       "      <td>195.0</td>\n",
       "      <td>39</td>\n",
       "      <td>106.0</td>\n",
       "      <td>70.0</td>\n",
       "      <td>0</td>\n",
       "      <td>0.0</td>\n",
       "      <td>26.97</td>\n",
       "      <td>0</td>\n",
       "      <td>...</td>\n",
       "      <td>1</td>\n",
       "      <td>0</td>\n",
       "      <td>8766</td>\n",
       "      <td>6438</td>\n",
       "      <td>6438</td>\n",
       "      <td>6438</td>\n",
       "      <td>8766</td>\n",
       "      <td>6438</td>\n",
       "      <td>8766</td>\n",
       "      <td>8766</td>\n",
       "    </tr>\n",
       "    <tr>\n",
       "      <th>1</th>\n",
       "      <td>2448</td>\n",
       "      <td>1</td>\n",
       "      <td>209.0</td>\n",
       "      <td>52</td>\n",
       "      <td>121.0</td>\n",
       "      <td>66.0</td>\n",
       "      <td>0</td>\n",
       "      <td>0.0</td>\n",
       "      <td>NaN</td>\n",
       "      <td>0</td>\n",
       "      <td>...</td>\n",
       "      <td>1</td>\n",
       "      <td>0</td>\n",
       "      <td>8766</td>\n",
       "      <td>6438</td>\n",
       "      <td>6438</td>\n",
       "      <td>6438</td>\n",
       "      <td>8766</td>\n",
       "      <td>6438</td>\n",
       "      <td>8766</td>\n",
       "      <td>8766</td>\n",
       "    </tr>\n",
       "    <tr>\n",
       "      <th>2</th>\n",
       "      <td>6238</td>\n",
       "      <td>2</td>\n",
       "      <td>250.0</td>\n",
       "      <td>46</td>\n",
       "      <td>121.0</td>\n",
       "      <td>81.0</td>\n",
       "      <td>0</td>\n",
       "      <td>0.0</td>\n",
       "      <td>28.73</td>\n",
       "      <td>0</td>\n",
       "      <td>...</td>\n",
       "      <td>0</td>\n",
       "      <td>0</td>\n",
       "      <td>8766</td>\n",
       "      <td>8766</td>\n",
       "      <td>8766</td>\n",
       "      <td>8766</td>\n",
       "      <td>8766</td>\n",
       "      <td>8766</td>\n",
       "      <td>8766</td>\n",
       "      <td>8766</td>\n",
       "    </tr>\n",
       "    <tr>\n",
       "      <th>3</th>\n",
       "      <td>6238</td>\n",
       "      <td>2</td>\n",
       "      <td>260.0</td>\n",
       "      <td>52</td>\n",
       "      <td>105.0</td>\n",
       "      <td>69.5</td>\n",
       "      <td>0</td>\n",
       "      <td>0.0</td>\n",
       "      <td>29.43</td>\n",
       "      <td>0</td>\n",
       "      <td>...</td>\n",
       "      <td>0</td>\n",
       "      <td>0</td>\n",
       "      <td>8766</td>\n",
       "      <td>8766</td>\n",
       "      <td>8766</td>\n",
       "      <td>8766</td>\n",
       "      <td>8766</td>\n",
       "      <td>8766</td>\n",
       "      <td>8766</td>\n",
       "      <td>8766</td>\n",
       "    </tr>\n",
       "    <tr>\n",
       "      <th>4</th>\n",
       "      <td>6238</td>\n",
       "      <td>2</td>\n",
       "      <td>237.0</td>\n",
       "      <td>58</td>\n",
       "      <td>108.0</td>\n",
       "      <td>66.0</td>\n",
       "      <td>0</td>\n",
       "      <td>0.0</td>\n",
       "      <td>28.50</td>\n",
       "      <td>0</td>\n",
       "      <td>...</td>\n",
       "      <td>0</td>\n",
       "      <td>0</td>\n",
       "      <td>8766</td>\n",
       "      <td>8766</td>\n",
       "      <td>8766</td>\n",
       "      <td>8766</td>\n",
       "      <td>8766</td>\n",
       "      <td>8766</td>\n",
       "      <td>8766</td>\n",
       "      <td>8766</td>\n",
       "    </tr>\n",
       "  </tbody>\n",
       "</table>\n",
       "<p>5 rows × 39 columns</p>\n",
       "</div>"
      ],
      "text/plain": [
       "   RANDID  SEX  TOTCHOL  AGE  SYSBP  DIABP  CURSMOKE  CIGPDAY    BMI  \\\n",
       "0    2448    1    195.0   39  106.0   70.0         0      0.0  26.97   \n",
       "1    2448    1    209.0   52  121.0   66.0         0      0.0    NaN   \n",
       "2    6238    2    250.0   46  121.0   81.0         0      0.0  28.73   \n",
       "3    6238    2    260.0   52  105.0   69.5         0      0.0  29.43   \n",
       "4    6238    2    237.0   58  108.0   66.0         0      0.0  28.50   \n",
       "\n",
       "   DIABETES  ...  CVD  HYPERTEN  TIMEAP  TIMEMI  TIMEMIFC  TIMECHD  TIMESTRK  \\\n",
       "0         0  ...    1         0    8766    6438      6438     6438      8766   \n",
       "1         0  ...    1         0    8766    6438      6438     6438      8766   \n",
       "2         0  ...    0         0    8766    8766      8766     8766      8766   \n",
       "3         0  ...    0         0    8766    8766      8766     8766      8766   \n",
       "4         0  ...    0         0    8766    8766      8766     8766      8766   \n",
       "\n",
       "   TIMECVD  TIMEDTH  TIMEHYP  \n",
       "0     6438     8766     8766  \n",
       "1     6438     8766     8766  \n",
       "2     8766     8766     8766  \n",
       "3     8766     8766     8766  \n",
       "4     8766     8766     8766  \n",
       "\n",
       "[5 rows x 39 columns]"
      ]
     },
     "execution_count": 92,
     "metadata": {},
     "output_type": "execute_result"
    }
   ],
   "source": [
    "df.head()"
   ]
  },
  {
   "attachments": {},
   "cell_type": "markdown",
   "metadata": {},
   "source": [
    "In the previoius analysis of this data, we looked at some of the trends seen in the data and how some of the features relate to Death and cardiovascular events. \n",
    "\n",
    "In this notebook, we will be cleaning and normalisng the data in order to best prepare the data for a random forest model. "
   ]
  },
  {
   "cell_type": "code",
   "execution_count": 93,
   "metadata": {},
   "outputs": [
    {
     "data": {
      "text/plain": [
       "Index(['RANDID', 'SEX', 'TOTCHOL', 'AGE', 'SYSBP', 'DIABP', 'CURSMOKE',\n",
       "       'CIGPDAY', 'BMI', 'DIABETES', 'BPMEDS', 'HEARTRTE', 'GLUCOSE', 'educ',\n",
       "       'PREVCHD', 'PREVAP', 'PREVMI', 'PREVSTRK', 'PREVHYP', 'TIME', 'PERIOD',\n",
       "       'HDLC', 'LDLC', 'DEATH', 'ANGINA', 'HOSPMI', 'MI_FCHD', 'ANYCHD',\n",
       "       'STROKE', 'CVD', 'HYPERTEN', 'TIMEAP', 'TIMEMI', 'TIMEMIFC', 'TIMECHD',\n",
       "       'TIMESTRK', 'TIMECVD', 'TIMEDTH', 'TIMEHYP'],\n",
       "      dtype='object')"
      ]
     },
     "execution_count": 93,
     "metadata": {},
     "output_type": "execute_result"
    }
   ],
   "source": [
    "df.columns"
   ]
  },
  {
   "cell_type": "code",
   "execution_count": 94,
   "metadata": {},
   "outputs": [
    {
     "data": {
      "text/plain": [
       "(array([0, 1, 2, 3, 4, 5, 6, 7, 8]),\n",
       " [Text(0, 0, 'LDLC'),\n",
       "  Text(1, 0, 'HDLC'),\n",
       "  Text(2, 0, 'GLUCOSE'),\n",
       "  Text(3, 0, 'BPMEDS'),\n",
       "  Text(4, 0, 'TOTCHOL'),\n",
       "  Text(5, 0, 'educ'),\n",
       "  Text(6, 0, 'CIGPDAY'),\n",
       "  Text(7, 0, 'BMI'),\n",
       "  Text(8, 0, 'HEARTRTE')])"
      ]
     },
     "execution_count": 94,
     "metadata": {},
     "output_type": "execute_result"
    },
    {
     "data": {
      "image/png": "[encoded data removed]",
      "text/plain": [
       "<Figure size 640x480 with 1 Axes>"
      ]
     },
     "metadata": {},
     "output_type": "display_data"
    }
   ],
   "source": [
    "def percent_missing(df):\n",
    "    total_values = len(df)\n",
    "    missing_count = df.isnull().sum()\n",
    "    percent_missing = (missing_count/total_values) * 100\n",
    "    percent_missing.sort_values(ascending=False, inplace=True)\n",
    "    return percent_missing[percent_missing > 0]\n",
    "\n",
    "percent_missing_df = percent_missing(df)\n",
    "\n",
    "sns.barplot(x = percent_missing_df.index, y = percent_missing_df)\n",
    "plt.xticks(rotation=90)"
   ]
  },
  {
   "attachments": {},
   "cell_type": "markdown",
   "metadata": {},
   "source": [
    "From this plot we can see that LDLC and HDLC are missing > 70% of their data. We will therefore remove these columns from the dataset. \n",
    "Whilst glucose, BMI and SBP are missing < 30% of their data, we will keep these columns in the dataset as they are likely omitted because this data does not aplly to the patient (e.g. a patient with no diabetes will not have a glucose reading)."
   ]
  },
  {
   "attachments": {},
   "cell_type": "markdown",
   "metadata": {},
   "source": [
    "I am interested to see how many participants have missing values for each of the features with missing data."
   ]
  },
  {
   "cell_type": "code",
   "execution_count": 95,
   "metadata": {},
   "outputs": [
    {
     "name": "stdout",
     "output_type": "stream",
     "text": [
      "LDLC: 4434\n",
      "HDLC: 4434\n",
      "GLUCOSE: 1253\n",
      "BPMEDS: 580\n",
      "TOTCHOL: 368\n",
      "educ: 113\n",
      "CIGPDAY: 78\n",
      "BMI: 44\n",
      "HEARTRTE: 6\n"
     ]
    }
   ],
   "source": [
    "percent_missing_df.index\n",
    "for x in percent_missing_df.index:\n",
    "    print(x + \": \" + str(len(df[df[x].isnull()].groupby('RANDID'))))"
   ]
  },
  {
   "attachments": {},
   "cell_type": "markdown",
   "metadata": {},
   "source": [
    "For the missing data we could ideally inspect the data to see if the data was missing for all of the participant's visits, and then perhaps use an average of their other visits, such as using an average of their heart rates if they were fairly similar. However for the sake of time, I will only do this for the Heart Rate feature."
   ]
  },
  {
   "cell_type": "code",
   "execution_count": 96,
   "metadata": {},
   "outputs": [
    {
     "data": {
      "text/plain": [
       "1299     1080920\n",
       "1434     1186959\n",
       "1847     1557925\n",
       "2630     2235925\n",
       "3500     3029122\n",
       "10250    8878837\n",
       "Name: RANDID, dtype: int64"
      ]
     },
     "execution_count": 96,
     "metadata": {},
     "output_type": "execute_result"
    }
   ],
   "source": [
    "df[df['HEARTRTE'].isnull()].RANDID"
   ]
  },
  {
   "cell_type": "code",
   "execution_count": 97,
   "metadata": {},
   "outputs": [
    {
     "name": "stdout",
     "output_type": "stream",
     "text": [
      "1080920: [92. nan]\n",
      "1186959: [85. nan]\n",
      "1557925: [nan 80.]\n",
      "2235925: [86. 80. nan]\n",
      "3029122: [80. nan]\n",
      "8878837: [75. 70. nan]\n"
     ]
    }
   ],
   "source": [
    "for x in df[df['HEARTRTE'].isnull()].RANDID:\n",
    "    print(str(x) + \": \" + str(df[df['RANDID'] == x].HEARTRTE.values))"
   ]
  },
  {
   "attachments": {},
   "cell_type": "markdown",
   "metadata": {},
   "source": [
    "Looking at these values I think that the right thing to do here is to use the average of the other visits for the missing values. If there is only one visit, then we will just use the value for that visit."
   ]
  },
  {
   "cell_type": "code",
   "execution_count": 98,
   "metadata": {},
   "outputs": [
    {
     "data": {
      "text/html": [
       "<div>\n",
       "<style scoped>\n",
       "    .dataframe tbody tr th:only-of-type {\n",
       "        vertical-align: middle;\n",
       "    }\n",
       "\n",
       "    .dataframe tbody tr th {\n",
       "        vertical-align: top;\n",
       "    }\n",
       "\n",
       "    .dataframe thead th {\n",
       "        text-align: right;\n",
       "    }\n",
       "</style>\n",
       "<table border=\"1\" class=\"dataframe\">\n",
       "  <thead>\n",
       "    <tr style=\"text-align: right;\">\n",
       "      <th></th>\n",
       "      <th>RANDID</th>\n",
       "      <th>SEX</th>\n",
       "      <th>TOTCHOL</th>\n",
       "      <th>AGE</th>\n",
       "      <th>SYSBP</th>\n",
       "      <th>DIABP</th>\n",
       "      <th>CURSMOKE</th>\n",
       "      <th>CIGPDAY</th>\n",
       "      <th>BMI</th>\n",
       "      <th>DIABETES</th>\n",
       "      <th>...</th>\n",
       "      <th>CVD</th>\n",
       "      <th>HYPERTEN</th>\n",
       "      <th>TIMEAP</th>\n",
       "      <th>TIMEMI</th>\n",
       "      <th>TIMEMIFC</th>\n",
       "      <th>TIMECHD</th>\n",
       "      <th>TIMESTRK</th>\n",
       "      <th>TIMECVD</th>\n",
       "      <th>TIMEDTH</th>\n",
       "      <th>TIMEHYP</th>\n",
       "    </tr>\n",
       "  </thead>\n",
       "  <tbody>\n",
       "    <tr>\n",
       "      <th>1299</th>\n",
       "      <td>1080920</td>\n",
       "      <td>2</td>\n",
       "      <td>193.0</td>\n",
       "      <td>70</td>\n",
       "      <td>168.0</td>\n",
       "      <td>70.0</td>\n",
       "      <td>0</td>\n",
       "      <td>0.0</td>\n",
       "      <td>NaN</td>\n",
       "      <td>1</td>\n",
       "      <td>...</td>\n",
       "      <td>1</td>\n",
       "      <td>1</td>\n",
       "      <td>2424</td>\n",
       "      <td>2424</td>\n",
       "      <td>1112</td>\n",
       "      <td>1112</td>\n",
       "      <td>1679</td>\n",
       "      <td>1112</td>\n",
       "      <td>2424</td>\n",
       "      <td>0</td>\n",
       "    </tr>\n",
       "    <tr>\n",
       "      <th>1434</th>\n",
       "      <td>1186959</td>\n",
       "      <td>2</td>\n",
       "      <td>NaN</td>\n",
       "      <td>73</td>\n",
       "      <td>200.0</td>\n",
       "      <td>100.0</td>\n",
       "      <td>1</td>\n",
       "      <td>2.0</td>\n",
       "      <td>36.53</td>\n",
       "      <td>0</td>\n",
       "      <td>...</td>\n",
       "      <td>0</td>\n",
       "      <td>1</td>\n",
       "      <td>5437</td>\n",
       "      <td>5437</td>\n",
       "      <td>5437</td>\n",
       "      <td>5437</td>\n",
       "      <td>5437</td>\n",
       "      <td>5437</td>\n",
       "      <td>5437</td>\n",
       "      <td>0</td>\n",
       "    </tr>\n",
       "    <tr>\n",
       "      <th>1847</th>\n",
       "      <td>1557925</td>\n",
       "      <td>1</td>\n",
       "      <td>219.0</td>\n",
       "      <td>64</td>\n",
       "      <td>172.5</td>\n",
       "      <td>75.0</td>\n",
       "      <td>1</td>\n",
       "      <td>18.0</td>\n",
       "      <td>29.29</td>\n",
       "      <td>0</td>\n",
       "      <td>...</td>\n",
       "      <td>1</td>\n",
       "      <td>1</td>\n",
       "      <td>2796</td>\n",
       "      <td>2794</td>\n",
       "      <td>2794</td>\n",
       "      <td>2794</td>\n",
       "      <td>2784</td>\n",
       "      <td>2784</td>\n",
       "      <td>2796</td>\n",
       "      <td>0</td>\n",
       "    </tr>\n",
       "    <tr>\n",
       "      <th>2630</th>\n",
       "      <td>2235925</td>\n",
       "      <td>2</td>\n",
       "      <td>NaN</td>\n",
       "      <td>77</td>\n",
       "      <td>202.5</td>\n",
       "      <td>95.5</td>\n",
       "      <td>0</td>\n",
       "      <td>0.0</td>\n",
       "      <td>NaN</td>\n",
       "      <td>0</td>\n",
       "      <td>...</td>\n",
       "      <td>0</td>\n",
       "      <td>1</td>\n",
       "      <td>4914</td>\n",
       "      <td>6763</td>\n",
       "      <td>6763</td>\n",
       "      <td>4914</td>\n",
       "      <td>6763</td>\n",
       "      <td>6763</td>\n",
       "      <td>6763</td>\n",
       "      <td>0</td>\n",
       "    </tr>\n",
       "    <tr>\n",
       "      <th>3500</th>\n",
       "      <td>3029122</td>\n",
       "      <td>2</td>\n",
       "      <td>238.0</td>\n",
       "      <td>71</td>\n",
       "      <td>124.0</td>\n",
       "      <td>80.0</td>\n",
       "      <td>1</td>\n",
       "      <td>NaN</td>\n",
       "      <td>NaN</td>\n",
       "      <td>0</td>\n",
       "      <td>...</td>\n",
       "      <td>0</td>\n",
       "      <td>0</td>\n",
       "      <td>6944</td>\n",
       "      <td>6944</td>\n",
       "      <td>6944</td>\n",
       "      <td>6944</td>\n",
       "      <td>6944</td>\n",
       "      <td>6944</td>\n",
       "      <td>6944</td>\n",
       "      <td>6944</td>\n",
       "    </tr>\n",
       "    <tr>\n",
       "      <th>10250</th>\n",
       "      <td>8878837</td>\n",
       "      <td>2</td>\n",
       "      <td>172.0</td>\n",
       "      <td>76</td>\n",
       "      <td>148.0</td>\n",
       "      <td>90.0</td>\n",
       "      <td>1</td>\n",
       "      <td>NaN</td>\n",
       "      <td>NaN</td>\n",
       "      <td>1</td>\n",
       "      <td>...</td>\n",
       "      <td>1</td>\n",
       "      <td>1</td>\n",
       "      <td>4936</td>\n",
       "      <td>4936</td>\n",
       "      <td>4936</td>\n",
       "      <td>4936</td>\n",
       "      <td>3410</td>\n",
       "      <td>3410</td>\n",
       "      <td>4936</td>\n",
       "      <td>0</td>\n",
       "    </tr>\n",
       "  </tbody>\n",
       "</table>\n",
       "<p>6 rows × 39 columns</p>\n",
       "</div>"
      ],
      "text/plain": [
       "        RANDID  SEX  TOTCHOL  AGE  SYSBP  DIABP  CURSMOKE  CIGPDAY    BMI  \\\n",
       "1299   1080920    2    193.0   70  168.0   70.0         0      0.0    NaN   \n",
       "1434   1186959    2      NaN   73  200.0  100.0         1      2.0  36.53   \n",
       "1847   1557925    1    219.0   64  172.5   75.0         1     18.0  29.29   \n",
       "2630   2235925    2      NaN   77  202.5   95.5         0      0.0    NaN   \n",
       "3500   3029122    2    238.0   71  124.0   80.0         1      NaN    NaN   \n",
       "10250  8878837    2    172.0   76  148.0   90.0         1      NaN    NaN   \n",
       "\n",
       "       DIABETES  ...  CVD  HYPERTEN  TIMEAP  TIMEMI  TIMEMIFC  TIMECHD  \\\n",
       "1299          1  ...    1         1    2424    2424      1112     1112   \n",
       "1434          0  ...    0         1    5437    5437      5437     5437   \n",
       "1847          0  ...    1         1    2796    2794      2794     2794   \n",
       "2630          0  ...    0         1    4914    6763      6763     4914   \n",
       "3500          0  ...    0         0    6944    6944      6944     6944   \n",
       "10250         1  ...    1         1    4936    4936      4936     4936   \n",
       "\n",
       "       TIMESTRK  TIMECVD  TIMEDTH  TIMEHYP  \n",
       "1299       1679     1112     2424        0  \n",
       "1434       5437     5437     5437        0  \n",
       "1847       2784     2784     2796        0  \n",
       "2630       6763     6763     6763        0  \n",
       "3500       6944     6944     6944     6944  \n",
       "10250      3410     3410     4936        0  \n",
       "\n",
       "[6 rows x 39 columns]"
      ]
     },
     "execution_count": 98,
     "metadata": {},
     "output_type": "execute_result"
    }
   ],
   "source": [
    "df[df['HEARTRTE'].isnull()]"
   ]
  },
  {
   "cell_type": "code",
   "execution_count": 99,
   "metadata": {},
   "outputs": [
    {
     "data": {
      "text/plain": [
       "Int64Index([1299, 1434, 1847, 2630, 3500, 10250], dtype='int64')"
      ]
     },
     "execution_count": 99,
     "metadata": {},
     "output_type": "execute_result"
    }
   ],
   "source": [
    "df[df['HEARTRTE'].isnull()].index"
   ]
  },
  {
   "cell_type": "code",
   "execution_count": 100,
   "metadata": {},
   "outputs": [
    {
     "data": {
      "text/html": [
       "<div>\n",
       "<style scoped>\n",
       "    .dataframe tbody tr th:only-of-type {\n",
       "        vertical-align: middle;\n",
       "    }\n",
       "\n",
       "    .dataframe tbody tr th {\n",
       "        vertical-align: top;\n",
       "    }\n",
       "\n",
       "    .dataframe thead th {\n",
       "        text-align: right;\n",
       "    }\n",
       "</style>\n",
       "<table border=\"1\" class=\"dataframe\">\n",
       "  <thead>\n",
       "    <tr style=\"text-align: right;\">\n",
       "      <th></th>\n",
       "      <th>RANDID</th>\n",
       "      <th>SEX</th>\n",
       "      <th>TOTCHOL</th>\n",
       "      <th>AGE</th>\n",
       "      <th>SYSBP</th>\n",
       "      <th>DIABP</th>\n",
       "      <th>CURSMOKE</th>\n",
       "      <th>CIGPDAY</th>\n",
       "      <th>BMI</th>\n",
       "      <th>DIABETES</th>\n",
       "      <th>...</th>\n",
       "      <th>CVD</th>\n",
       "      <th>HYPERTEN</th>\n",
       "      <th>TIMEAP</th>\n",
       "      <th>TIMEMI</th>\n",
       "      <th>TIMEMIFC</th>\n",
       "      <th>TIMECHD</th>\n",
       "      <th>TIMESTRK</th>\n",
       "      <th>TIMECVD</th>\n",
       "      <th>TIMEDTH</th>\n",
       "      <th>TIMEHYP</th>\n",
       "    </tr>\n",
       "  </thead>\n",
       "  <tbody>\n",
       "    <tr>\n",
       "      <th>1299</th>\n",
       "      <td>1080920</td>\n",
       "      <td>2</td>\n",
       "      <td>193.0</td>\n",
       "      <td>70</td>\n",
       "      <td>168.0</td>\n",
       "      <td>70.0</td>\n",
       "      <td>0</td>\n",
       "      <td>0.0</td>\n",
       "      <td>NaN</td>\n",
       "      <td>1</td>\n",
       "      <td>...</td>\n",
       "      <td>1</td>\n",
       "      <td>1</td>\n",
       "      <td>2424</td>\n",
       "      <td>2424</td>\n",
       "      <td>1112</td>\n",
       "      <td>1112</td>\n",
       "      <td>1679</td>\n",
       "      <td>1112</td>\n",
       "      <td>2424</td>\n",
       "      <td>0</td>\n",
       "    </tr>\n",
       "  </tbody>\n",
       "</table>\n",
       "<p>1 rows × 39 columns</p>\n",
       "</div>"
      ],
      "text/plain": [
       "       RANDID  SEX  TOTCHOL  AGE  SYSBP  DIABP  CURSMOKE  CIGPDAY  BMI  \\\n",
       "1299  1080920    2    193.0   70  168.0   70.0         0      0.0  NaN   \n",
       "\n",
       "      DIABETES  ...  CVD  HYPERTEN  TIMEAP  TIMEMI  TIMEMIFC  TIMECHD  \\\n",
       "1299         1  ...    1         1    2424    2424      1112     1112   \n",
       "\n",
       "      TIMESTRK  TIMECVD  TIMEDTH  TIMEHYP  \n",
       "1299      1679     1112     2424        0  \n",
       "\n",
       "[1 rows x 39 columns]"
      ]
     },
     "execution_count": 100,
     "metadata": {},
     "output_type": "execute_result"
    }
   ],
   "source": [
    "df[df.index == 1299]"
   ]
  },
  {
   "cell_type": "code",
   "execution_count": 101,
   "metadata": {},
   "outputs": [],
   "source": [
    "for x in df[df['HEARTRTE'].isnull()].index:\n",
    "    df.loc[x, 'HEARTRTE'] = df[df['RANDID'] == df.loc[x, 'RANDID']].HEARTRTE.mean()"
   ]
  },
  {
   "cell_type": "code",
   "execution_count": 102,
   "metadata": {},
   "outputs": [
    {
     "data": {
      "text/plain": [
       "Int64Index([], dtype='int64')"
      ]
     },
     "execution_count": 102,
     "metadata": {},
     "output_type": "execute_result"
    }
   ],
   "source": [
    "df[df['HEARTRTE'].isnull()].index"
   ]
  },
  {
   "attachments": {},
   "cell_type": "markdown",
   "metadata": {},
   "source": [
    "We can see now that those heart rates that were previoulsy missing have been filled in with the average of the other visits."
   ]
  },
  {
   "attachments": {},
   "cell_type": "markdown",
   "metadata": {},
   "source": [
    "There are also 44 missing values for the BMI feature, lets have a quick look at these too."
   ]
  },
  {
   "cell_type": "code",
   "execution_count": 103,
   "metadata": {},
   "outputs": [],
   "source": [
    "arr = []\n",
    "for x in df[df['BMI'].isnull()].RANDID:\n",
    "    arr.append(str(x) + \": \" + str(df[df['RANDID'] == x].BMI.values))"
   ]
  },
  {
   "cell_type": "code",
   "execution_count": 104,
   "metadata": {},
   "outputs": [
    {
     "name": "stdout",
     "output_type": "stream",
     "text": [
      "2448: [26.97   nan]\n",
      "212271: [nan]\n",
      "303367: [25.1    nan 25.75]\n",
      "415724: [26.15   nan]\n",
      "696867: [nan]\n",
      "1019315: [25.13 25.68   nan]\n",
      "1080920: [38.82   nan]\n",
      "1269712: [20.49   nan]\n",
      "1600765: [  nan 24.94 24.94]\n",
      "2235925: [20.67 20.07   nan]\n"
     ]
    }
   ],
   "source": [
    "x = 0\n",
    "for y in range(0,10):\n",
    "    print(arr[y])"
   ]
  },
  {
   "attachments": {},
   "cell_type": "markdown",
   "metadata": {},
   "source": [
    "It looks like its going to be difficult for me to see what is going on just from the data, Im going to cheat a little and have a look at the groups with missing BMI values vs CVD and Death and compare that to those not missing BMI values."
   ]
  },
  {
   "cell_type": "code",
   "execution_count": 105,
   "metadata": {},
   "outputs": [
    {
     "name": "stdout",
     "output_type": "stream",
     "text": [
      "CVD with BMI Missing = 0.2493334480089447\n",
      " CVD with BMI Present = 0.2493334480089447\n"
     ]
    }
   ],
   "source": [
    "total_CVD_missing =0\n",
    "for z in df.BMI.isnull().index:\n",
    "    total_CVD_missing += df.loc[z, 'CVD']\n",
    "\n",
    "BMI_missing = total_CVD_missing / len(df.BMI.isnull())\n",
    "\n",
    "total_CVD_not_missing =0\n",
    "for z in df.BMI.notnull().index:\n",
    "    total_CVD_not_missing += df.loc[z, 'CVD']\n",
    "\n",
    "BMI_present = total_CVD_not_missing / len(df.BMI.notnull())\n",
    "\n",
    "print ('CVD with BMI Missing ' + \"= \" + str(BMI_missing) + \"\\n \" + 'CVD with BMI Present '+ \"= \" + str(BMI_present))"
   ]
  },
  {
   "attachments": {},
   "cell_type": "markdown",
   "metadata": {},
   "source": [
    "Looking at the results, it looks like the missing BMI values are fairly evenly distributed between those who have CVD and those who do not, thus I do not believe that these individuals with a missing BMI value have an increased or decreased risk of CVD or Death, according to this dataset. As before I am going to use the average of the other visits for the missing values."
   ]
  },
  {
   "cell_type": "code",
   "execution_count": 106,
   "metadata": {},
   "outputs": [],
   "source": [
    "for a in df[df.BMI.isnull()].index:\n",
    "    df.loc[a, 'BMI'] = df[df['RANDID'] == df.loc[a, 'RANDID']].BMI.mean()"
   ]
  },
  {
   "cell_type": "code",
   "execution_count": 107,
   "metadata": {},
   "outputs": [
    {
     "data": {
      "text/plain": [
       "22"
      ]
     },
     "execution_count": 107,
     "metadata": {},
     "output_type": "execute_result"
    }
   ],
   "source": [
    "len(df[df['BMI'].isnull()])"
   ]
  },
  {
   "cell_type": "code",
   "execution_count": 108,
   "metadata": {},
   "outputs": [
    {
     "name": "stdout",
     "output_type": "stream",
     "text": [
      "212271: [nan]\n",
      "696867: [nan]\n",
      "2668575: [nan]\n",
      "2687577: [nan]\n",
      "3703116: [nan nan nan]\n",
      "3703116: [nan nan nan]\n",
      "3703116: [nan nan nan]\n",
      "3762702: [nan nan]\n",
      "3762702: [nan nan]\n",
      "4067413: [nan nan]\n",
      "4067413: [nan nan]\n",
      "4648740: [nan]\n",
      "4837467: [nan nan nan]\n",
      "4837467: [nan nan nan]\n",
      "4837467: [nan nan nan]\n",
      "4899712: [nan]\n",
      "5127790: [nan]\n",
      "6921140: [nan nan nan]\n",
      "6921140: [nan nan nan]\n",
      "6921140: [nan nan nan]\n",
      "7265381: [nan]\n",
      "7834949: [nan]\n"
     ]
    }
   ],
   "source": [
    "arr = []\n",
    "for x in df[df['BMI'].isnull()].RANDID:\n",
    "    arr.append(str(x) + \": \" + str(df[df['RANDID'] == x].BMI.values))\n",
    "\n",
    "\n",
    "for v in arr:\n",
    "    print(v)"
   ]
  },
  {
   "cell_type": "markdown",
   "metadata": {},
   "source": [
    "It looks like there are 22 rows where there are no other BMI values for the participant, so I think I will have to drop these rows."
   ]
  },
  {
   "cell_type": "code",
   "execution_count": 109,
   "metadata": {},
   "outputs": [],
   "source": [
    "no_BMI_list = df[df['BMI'].isnull()].index\n",
    "\n",
    "df.drop(axis=0, index=no_BMI_list, inplace=True)"
   ]
  },
  {
   "attachments": {},
   "cell_type": "markdown",
   "metadata": {},
   "source": [
    "Lets investigate the cigarette smoking feature."
   ]
  },
  {
   "cell_type": "code",
   "execution_count": 110,
   "metadata": {},
   "outputs": [
    {
     "name": "stdout",
     "output_type": "stream",
     "text": [
      "Number of individuals missing smoking status = 78\n",
      "Number of rows missing smoking status = 79\n"
     ]
    }
   ],
   "source": [
    "print(\"Number of individuals missing smoking status = \" + str(len(df[df.CIGPDAY.isnull()].groupby('RANDID').count().SEX)))\n",
    "\n",
    "print(\"Number of rows missing smoking status = \" + str(len(df[df.CIGPDAY.isnull()].index)))\n"
   ]
  },
  {
   "cell_type": "code",
   "execution_count": 111,
   "metadata": {},
   "outputs": [
    {
     "name": "stdout",
     "output_type": "stream",
     "text": [
      "309808: [nan 40. 50.]\n",
      "336991: [nan  0.  0.]\n",
      "647094: [ 1.  0. nan]\n",
      "769782: [ 0. nan]\n",
      "962125: [25. nan  0.]\n",
      "984588: [ 0. nan]\n",
      "1049378: [50. 60. nan]\n",
      "1294557: [ 5. nan]\n",
      "1341461: [15. nan 20.]\n",
      "1397567: [10. nan]\n"
     ]
    }
   ],
   "source": [
    "arr = []\n",
    "for x in df[df['CIGPDAY'].isnull()].RANDID:\n",
    "    arr.append(str(x) + \": \" + str(df[df['RANDID'] == x].CIGPDAY.values))\n",
    "\n",
    "\n",
    "for v in range(0,10):\n",
    "    print(arr[v])"
   ]
  },
  {
   "attachments": {},
   "cell_type": "markdown",
   "metadata": {},
   "source": [
    "Again looking at the data I think that I will use the average of the other values for the missing values. "
   ]
  },
  {
   "cell_type": "code",
   "execution_count": 112,
   "metadata": {},
   "outputs": [],
   "source": [
    "for s in df[df['CIGPDAY'].isnull()].index:\n",
    "    df.loc[s, 'CIGPDAY'] = df[df['RANDID'] == df.loc[s, 'RANDID']].CIGPDAY.mean()\n"
   ]
  },
  {
   "cell_type": "code",
   "execution_count": 113,
   "metadata": {},
   "outputs": [
    {
     "name": "stdout",
     "output_type": "stream",
     "text": [
      "2108588: [nan]\n"
     ]
    }
   ],
   "source": [
    "arr = []\n",
    "for x in df[df['CIGPDAY'].isnull()].RANDID:\n",
    "    arr.append(str(x) + \": \" + str(df[df['RANDID'] == x].CIGPDAY.values))\n",
    "\n",
    "\n",
    "for v in arr:\n",
    "    print(v)"
   ]
  },
  {
   "attachments": {},
   "cell_type": "markdown",
   "metadata": {},
   "source": [
    "Looks like were just missing a single value for the CIGPDAY feature now, so I will just drop this row."
   ]
  },
  {
   "cell_type": "code",
   "execution_count": 114,
   "metadata": {},
   "outputs": [],
   "source": [
    "df.drop(axis=0, index = df[df['CIGPDAY'].isnull()].index, inplace=True)"
   ]
  },
  {
   "attachments": {},
   "cell_type": "markdown",
   "metadata": {},
   "source": [
    "The next feature that has missing values is the education feature, unless other vales are present for participants taken at different visits, I think that I will just drop these rows."
   ]
  },
  {
   "cell_type": "code",
   "execution_count": 115,
   "metadata": {},
   "outputs": [
    {
     "data": {
      "text/plain": [
       "295"
      ]
     },
     "execution_count": 115,
     "metadata": {},
     "output_type": "execute_result"
    }
   ],
   "source": [
    "len(df[df['educ'].isnull()])"
   ]
  },
  {
   "cell_type": "code",
   "execution_count": 116,
   "metadata": {},
   "outputs": [],
   "source": [
    "for s in df[df['educ'].isnull()].index:\n",
    "    df.loc[s, 'educ'] = df[df['RANDID'] == df.loc[s, 'RANDID']].educ.mean()"
   ]
  },
  {
   "cell_type": "code",
   "execution_count": 117,
   "metadata": {},
   "outputs": [
    {
     "data": {
      "text/plain": [
       "295"
      ]
     },
     "execution_count": 117,
     "metadata": {},
     "output_type": "execute_result"
    }
   ],
   "source": [
    "len(df[df['educ'].isnull()])"
   ]
  },
  {
   "attachments": {},
   "cell_type": "markdown",
   "metadata": {},
   "source": [
    "Looks like none of the educ values are able to be filled by other visits, so I will just drop these rows."
   ]
  },
  {
   "cell_type": "code",
   "execution_count": 118,
   "metadata": {},
   "outputs": [],
   "source": [
    "df.drop(axis=0, index = df[df['educ'].isnull()].index, inplace=True)"
   ]
  },
  {
   "attachments": {},
   "cell_type": "markdown",
   "metadata": {},
   "source": [
    "The next thing on the list is the cholesterol feature, lets have a look at this."
   ]
  },
  {
   "cell_type": "code",
   "execution_count": 119,
   "metadata": {},
   "outputs": [
    {
     "data": {
      "text/plain": [
       "389"
      ]
     },
     "execution_count": 119,
     "metadata": {},
     "output_type": "execute_result"
    }
   ],
   "source": [
    "len(df[df['TOTCHOL'].isnull()])"
   ]
  },
  {
   "cell_type": "code",
   "execution_count": 120,
   "metadata": {},
   "outputs": [
    {
     "name": "stdout",
     "output_type": "stream",
     "text": [
      "11252: [285. 343.  nan]\n",
      "12806: [313.  nan 320.]\n",
      "16799: [254.  nan 291.]\n",
      "43522: [185. 270.  nan]\n",
      "83398: [178. 155.  nan]\n",
      "95148: [ nan 268. 240.]\n",
      "97895: [252. 286.  nan]\n",
      "125413: [250.  nan  nan]\n",
      "125413: [250.  nan  nan]\n",
      "206291: [274. 250.  nan]\n"
     ]
    }
   ],
   "source": [
    "arr = []\n",
    "for x in df[df['TOTCHOL'].isnull()].RANDID:\n",
    "    arr.append(str(x) + \": \" + str(df[df['RANDID'] == x].TOTCHOL.values))\n",
    "\n",
    "\n",
    "for v in range(0,10):\n",
    "    print(arr[v])"
   ]
  },
  {
   "attachments": {},
   "cell_type": "markdown",
   "metadata": {},
   "source": [
    "Looks like there are sufficient values for the cholesterol feature to be able to fill in the missing values, so I will do this now."
   ]
  },
  {
   "cell_type": "code",
   "execution_count": 121,
   "metadata": {},
   "outputs": [],
   "source": [
    "for s in df[df['TOTCHOL'].isnull()].index:\n",
    "    df.loc[s, 'TOTCHOL'] = df[df['RANDID'] == df.loc[s, 'RANDID']].TOTCHOL.mean()"
   ]
  },
  {
   "cell_type": "code",
   "execution_count": 122,
   "metadata": {},
   "outputs": [
    {
     "data": {
      "text/plain": [
       "22"
      ]
     },
     "execution_count": 122,
     "metadata": {},
     "output_type": "execute_result"
    }
   ],
   "source": [
    "arr = []\n",
    "for x in df[df['TOTCHOL'].isnull()].RANDID:\n",
    "    arr.append(str(x) + \": \" + str(df[df['RANDID'] == x].TOTCHOL.values))\n",
    "\n",
    "\n",
    "len(arr)"
   ]
  },
  {
   "attachments": {},
   "cell_type": "markdown",
   "metadata": {},
   "source": [
    "Looks like there are still 22 rows with missing values for the cholesterol feature, so I will drop these rows."
   ]
  },
  {
   "cell_type": "code",
   "execution_count": 123,
   "metadata": {},
   "outputs": [],
   "source": [
    "df.drop(axis=0, index=df[df['TOTCHOL'].isnull()].index, inplace=True)"
   ]
  },
  {
   "attachments": {},
   "cell_type": "markdown",
   "metadata": {},
   "source": [
    "Lets have a look at how much data we are missing now."
   ]
  },
  {
   "cell_type": "code",
   "execution_count": 124,
   "metadata": {},
   "outputs": [
    {
     "data": {
      "text/plain": [
       "(array([0, 1, 2, 3]),\n",
       " [Text(0, 0, 'LDLC'),\n",
       "  Text(1, 0, 'HDLC'),\n",
       "  Text(2, 0, 'GLUCOSE'),\n",
       "  Text(3, 0, 'BPMEDS')])"
      ]
     },
     "execution_count": 124,
     "metadata": {},
     "output_type": "execute_result"
    },
    {
     "data": {
      "image/png": "[encoded data removed]",
      "text/plain": [
       "<Figure size 640x480 with 1 Axes>"
      ]
     },
     "metadata": {},
     "output_type": "display_data"
    }
   ],
   "source": [
    "percent_missing_df = percent_missing(df)\n",
    "\n",
    "sns.barplot(x = percent_missing_df.index, y = percent_missing_df)\n",
    "plt.xticks(rotation=90)"
   ]
  },
  {
   "attachments": {},
   "cell_type": "markdown",
   "metadata": {},
   "source": [
    "Lets investigate the missing values for the BPMEDS feature."
   ]
  },
  {
   "cell_type": "code",
   "execution_count": 125,
   "metadata": {},
   "outputs": [
    {
     "data": {
      "text/plain": [
       "585"
      ]
     },
     "execution_count": 125,
     "metadata": {},
     "output_type": "execute_result"
    }
   ],
   "source": [
    "len(df[df['BPMEDS'].isnull()])"
   ]
  },
  {
   "attachments": {},
   "cell_type": "markdown",
   "metadata": {},
   "source": [
    "Looks like there are 585 missing values, lets have a closer look at these.\n",
    "Firstly lets see if these participants with missing BPMEDS are hypertensive."
   ]
  },
  {
   "cell_type": "code",
   "execution_count": 126,
   "metadata": {},
   "outputs": [
    {
     "data": {
      "text/plain": [
       "<AxesSubplot: xlabel='HYPERTEN', ylabel='count'>"
      ]
     },
     "execution_count": 126,
     "metadata": {},
     "output_type": "execute_result"
    },
    {
     "data": {
      "image/png": "[encoded data removed]",
      "text/plain": [
       "<Figure size 640x480 with 1 Axes>"
      ]
     },
     "metadata": {},
     "output_type": "display_data"
    }
   ],
   "source": [
    "sns.countplot(x = df[df['BPMEDS'].isnull()].HYPERTEN)"
   ]
  },
  {
   "attachments": {},
   "cell_type": "markdown",
   "metadata": {},
   "source": [
    "Looking at this data, it looks like the majority of the participants with missing BPMEDS values are hypertensive.\n",
    "Im unsure if these participants will be taking blood pressure medication or not, so I will try and see what the norm is in the rest of the dataset."
   ]
  },
  {
   "cell_type": "code",
   "execution_count": 127,
   "metadata": {},
   "outputs": [
    {
     "data": {
      "text/plain": [
       "<AxesSubplot: xlabel='HYPERTEN', ylabel='count'>"
      ]
     },
     "execution_count": 127,
     "metadata": {},
     "output_type": "execute_result"
    },
    {
     "data": {
      "image/png": "[encoded data removed]",
      "text/plain": [
       "<Figure size 640x480 with 1 Axes>"
      ]
     },
     "metadata": {},
     "output_type": "display_data"
    }
   ],
   "source": [
    "sns.countplot(x = df[df['BPMEDS'].notnull()].HYPERTEN)"
   ]
  },
  {
   "attachments": {},
   "cell_type": "markdown",
   "metadata": {},
   "source": [
    "Seems like there is a fairly even split between those taking blood pressure medication and those not taking blood pressure medication.\n",
    "It seems unreasonable to assume that these participants are either taking or not taking their medication.\n",
    "I will see if there are any values for other visits. "
   ]
  },
  {
   "cell_type": "code",
   "execution_count": 128,
   "metadata": {},
   "outputs": [
    {
     "name": "stdout",
     "output_type": "stream",
     "text": [
      "16799: [ 0.  0. nan]\n",
      "68397: [ 0. nan  0.]\n",
      "77492: [ 0.  0. nan]\n",
      "95148: [ 1.  1. nan]\n",
      "97026: [ 0.  0. nan]\n",
      "101990: [nan  0.  0.]\n",
      "127109: [ 0.  0. nan]\n",
      "149386: [ 0.  0. nan]\n",
      "151110: [ 0.  0. nan]\n",
      "162207: [ 0.  1. nan]\n"
     ]
    }
   ],
   "source": [
    "arr = []\n",
    "for x in df[df['BPMEDS'].isnull()].RANDID:\n",
    "    arr.append(str(x) + \": \" + str(df[df['RANDID'] == x].BPMEDS.values))\n",
    "\n",
    "\n",
    "for v in range(0,10):\n",
    "    print(arr[v])"
   ]
  },
  {
   "attachments": {},
   "cell_type": "markdown",
   "metadata": {},
   "source": [
    "OK, seems like a fair few have BPMEDS status recorded during other visits, so I will fill in the missing values with either a 1 or a 0 depending on the other visits. If the patient has ever taken blood pressure medication, I will fill in the missing value with a 1, otherwise I will fill in the missing value with a 0."
   ]
  },
  {
   "cell_type": "code",
   "execution_count": 133,
   "metadata": {},
   "outputs": [],
   "source": [
    "def prev_BPMEDS(ind):\n",
    "    if len(df[df['RANDID'] == df.loc[ind, 'RANDID']].BPMEDS) < 2:\n",
    "        return np.nan\n",
    "    sum = df[df['RANDID'] == df.loc[ind, 'RANDID']].BPMEDS.sum()\n",
    "    if sum > 0:\n",
    "        return 1\n",
    "    else: return 0"
   ]
  },
  {
   "cell_type": "code",
   "execution_count": 134,
   "metadata": {},
   "outputs": [],
   "source": [
    "for s in df[df['BPMEDS'].isnull()].index:\n",
    "    df.loc[s, 'BPMEDS'] = prev_BPMEDS(s)"
   ]
  },
  {
   "cell_type": "code",
   "execution_count": 136,
   "metadata": {},
   "outputs": [
    {
     "name": "stdout",
     "output_type": "stream",
     "text": [
      "481202: [nan]\n",
      "797308: [nan]\n",
      "2286129: [nan]\n",
      "4668307: [nan]\n",
      "4669258: [nan]\n",
      "4990326: [nan]\n",
      "5524196: [nan]\n",
      "7935008: [nan]\n"
     ]
    }
   ],
   "source": [
    "arr = []\n",
    "for x in df[df['BPMEDS'].isnull()].RANDID:\n",
    "    arr.append(str(x) + \": \" + str(df[df['RANDID'] == x].BPMEDS.values))\n",
    "\n",
    "\n",
    "for v in arr:\n",
    "    print(v)"
   ]
  },
  {
   "attachments": {},
   "cell_type": "markdown",
   "metadata": {},
   "source": [
    "Looks like we're only missing a few values now, so I will just drop these rows."
   ]
  },
  {
   "cell_type": "code",
   "execution_count": 137,
   "metadata": {},
   "outputs": [],
   "source": [
    "df.drop(axis=0, index = df[df['BPMEDS'].isnull()].index, inplace=True)"
   ]
  },
  {
   "attachments": {},
   "cell_type": "markdown",
   "metadata": {},
   "source": [
    "Glucose is the next feature with missing values, lets have a look at this."
   ]
  },
  {
   "cell_type": "code",
   "execution_count": 140,
   "metadata": {},
   "outputs": [
    {
     "data": {
      "text/plain": [
       "1385"
      ]
     },
     "execution_count": 140,
     "metadata": {},
     "output_type": "execute_result"
    }
   ],
   "source": [
    "len(df[df['GLUCOSE'].isnull()])"
   ]
  },
  {
   "attachments": {},
   "cell_type": "markdown",
   "metadata": {},
   "source": [
    "Looks like were missing quite a few values for the glucose feature, lets have a closer look at this.\n",
    "Looking at other visits has served us well so far, so I will do this again."
   ]
  },
  {
   "cell_type": "code",
   "execution_count": 142,
   "metadata": {},
   "outputs": [
    {
     "name": "stdout",
     "output_type": "stream",
     "text": [
      "11252: [85. 72. nan]\n",
      "12806: [78. nan 87.]\n",
      "24721: [nan 76. 97.]\n",
      "33077: [72. nan 91.]\n",
      "43522: [nan 85. nan]\n",
      "43522: [nan 85. nan]\n",
      "55965: [ nan  77. 100.]\n",
      "77492: [87. 75. nan]\n",
      "83398: [225. 200.  nan]\n",
      "84815: [90. nan 80.]\n"
     ]
    }
   ],
   "source": [
    "arr = []\n",
    "for x in df[df['GLUCOSE'].isnull()].RANDID:\n",
    "    arr.append(str(x) + \": \" + str(df[df['RANDID'] == x].GLUCOSE.values))\n",
    "\n",
    "\n",
    "for v in range(0,10):\n",
    "    print(arr[v])"
   ]
  },
  {
   "attachments": {},
   "cell_type": "markdown",
   "metadata": {},
   "source": [
    "It's very difficult to know whether these participants have a gradually increasing or decreasing glucose level.\n",
    "It could be that these participants have a gradually increasing glucose level, and that the missing value could have been a high reading.\n",
    "Or it could be that these participants have a gradually decreasing glucose level, and the missing value could have been a low reading."
   ]
  },
  {
   "attachments": {},
   "cell_type": "markdown",
   "metadata": {},
   "source": [
    "If I had more time, I would try and investigate these trends further, but for now I will just fill in the missing values with the average of the other visits."
   ]
  },
  {
   "cell_type": "code",
   "execution_count": 143,
   "metadata": {},
   "outputs": [],
   "source": [
    "for s in df[df['GLUCOSE'].isnull()].index:\n",
    "    df.loc[s, 'GLUCOSE'] = df[df['RANDID'] == df.loc[s, 'RANDID']].GLUCOSE.mean()"
   ]
  },
  {
   "cell_type": "code",
   "execution_count": 145,
   "metadata": {},
   "outputs": [
    {
     "data": {
      "text/plain": [
       "89"
      ]
     },
     "execution_count": 145,
     "metadata": {},
     "output_type": "execute_result"
    }
   ],
   "source": [
    "arr = []\n",
    "for x in df[df['GLUCOSE'].isnull()].RANDID:\n",
    "    arr.append(str(x) + \": \" + str(df[df['RANDID'] == x].GLUCOSE.values))\n",
    "\n",
    "\n",
    "len(arr)"
   ]
  },
  {
   "attachments": {},
   "cell_type": "markdown",
   "metadata": {},
   "source": [
    "looks like there are still 89 rows with missing values for the glucose feature, so I will drop these rows."
   ]
  },
  {
   "cell_type": "code",
   "execution_count": 146,
   "metadata": {},
   "outputs": [],
   "source": [
    "df.drop(axis=0, index=df[df['GLUCOSE'].isnull()].index, inplace=True)"
   ]
  },
  {
   "attachments": {},
   "cell_type": "markdown",
   "metadata": {},
   "source": [
    "Now I have covered all of the features with missing values, up to 20%. \n",
    "I will now remove HDL and LDL features from the dataset as they were missing > 70% of their data, and so would be filled in based off of assumptions that I would be uncomfortable making."
   ]
  },
  {
   "cell_type": "code",
   "execution_count": 148,
   "metadata": {},
   "outputs": [],
   "source": [
    "df.drop(axis = 1, columns=['HDLC', 'LDLC'], inplace = True)"
   ]
  },
  {
   "cell_type": "code",
   "execution_count": 152,
   "metadata": {},
   "outputs": [],
   "source": [
    "df.to_csv('frmgham_clean.csv')"
   ]
  },
  {
   "attachments": {},
   "cell_type": "markdown",
   "metadata": {},
   "source": [
    "I have now filled in all of the missing values in the dataset I thought that I could fill. I have also dropped and rows or columns that I felt were not able to be completed, for reasons that I explained above."
   ]
  },
  {
   "attachments": {},
   "cell_type": "markdown",
   "metadata": {},
   "source": [
    "The next step in the data cleaning process is to normalise the data."
   ]
  }
 ],
 "metadata": {
  "kernelspec": {
   "display_name": "base",
   "language": "python",
   "name": "python3"
  },
  "language_info": {
   "codemirror_mode": {
    "name": "ipython",
    "version": 3
   },
   "file_extension": ".py",
   "mimetype": "text/x-python",
   "name": "python",
   "nbconvert_exporter": "python",
   "pygments_lexer": "ipython3",
   "version": "3.9.16"
  },
  "orig_nbformat": 4,
  "vscode": {
   "interpreter": {
    "hash": "d909506be6a6add5e0cfee6823b800cdb91ae6ea14d62a429b1b5b95d6fdd72a"
   }
  }
 },
 "nbformat": 4,
 "nbformat_minor": 2
}
