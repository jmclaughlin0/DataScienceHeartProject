{
 "cells": [
  {
   "cell_type": "code",
   "execution_count": 2,
   "metadata": {},
   "outputs": [],
   "source": [
    "import pandas as pd\n",
    "import numpy as np\n",
    "import seaborn as sns\n",
    "import matplotlib.pyplot as plt\n",
    "import sklearn as sk"
   ]
  },
  {
   "cell_type": "code",
   "execution_count": 5,
   "metadata": {},
   "outputs": [],
   "source": [
    "df = pd.read_csv('frmgham_clean.csv', index_col=0)"
   ]
  },
  {
   "cell_type": "code",
   "execution_count": 6,
   "metadata": {},
   "outputs": [
    {
     "data": {
      "text/html": [
       "<div>\n",
       "<style scoped>\n",
       "    .dataframe tbody tr th:only-of-type {\n",
       "        vertical-align: middle;\n",
       "    }\n",
       "\n",
       "    .dataframe tbody tr th {\n",
       "        vertical-align: top;\n",
       "    }\n",
       "\n",
       "    .dataframe thead th {\n",
       "        text-align: right;\n",
       "    }\n",
       "</style>\n",
       "<table border=\"1\" class=\"dataframe\">\n",
       "  <thead>\n",
       "    <tr style=\"text-align: right;\">\n",
       "      <th></th>\n",
       "      <th>RANDID</th>\n",
       "      <th>SEX</th>\n",
       "      <th>TOTCHOL</th>\n",
       "      <th>AGE</th>\n",
       "      <th>SYSBP</th>\n",
       "      <th>DIABP</th>\n",
       "      <th>CURSMOKE</th>\n",
       "      <th>CIGPDAY</th>\n",
       "      <th>BMI</th>\n",
       "      <th>DIABETES</th>\n",
       "      <th>...</th>\n",
       "      <th>CVD</th>\n",
       "      <th>HYPERTEN</th>\n",
       "      <th>TIMEAP</th>\n",
       "      <th>TIMEMI</th>\n",
       "      <th>TIMEMIFC</th>\n",
       "      <th>TIMECHD</th>\n",
       "      <th>TIMESTRK</th>\n",
       "      <th>TIMECVD</th>\n",
       "      <th>TIMEDTH</th>\n",
       "      <th>TIMEHYP</th>\n",
       "    </tr>\n",
       "  </thead>\n",
       "  <tbody>\n",
       "    <tr>\n",
       "      <th>0</th>\n",
       "      <td>2448</td>\n",
       "      <td>1</td>\n",
       "      <td>195.0</td>\n",
       "      <td>39</td>\n",
       "      <td>106.0</td>\n",
       "      <td>70.0</td>\n",
       "      <td>0</td>\n",
       "      <td>0.0</td>\n",
       "      <td>26.97</td>\n",
       "      <td>0</td>\n",
       "      <td>...</td>\n",
       "      <td>1</td>\n",
       "      <td>0</td>\n",
       "      <td>8766</td>\n",
       "      <td>6438</td>\n",
       "      <td>6438</td>\n",
       "      <td>6438</td>\n",
       "      <td>8766</td>\n",
       "      <td>6438</td>\n",
       "      <td>8766</td>\n",
       "      <td>8766</td>\n",
       "    </tr>\n",
       "    <tr>\n",
       "      <th>1</th>\n",
       "      <td>2448</td>\n",
       "      <td>1</td>\n",
       "      <td>209.0</td>\n",
       "      <td>52</td>\n",
       "      <td>121.0</td>\n",
       "      <td>66.0</td>\n",
       "      <td>0</td>\n",
       "      <td>0.0</td>\n",
       "      <td>26.97</td>\n",
       "      <td>0</td>\n",
       "      <td>...</td>\n",
       "      <td>1</td>\n",
       "      <td>0</td>\n",
       "      <td>8766</td>\n",
       "      <td>6438</td>\n",
       "      <td>6438</td>\n",
       "      <td>6438</td>\n",
       "      <td>8766</td>\n",
       "      <td>6438</td>\n",
       "      <td>8766</td>\n",
       "      <td>8766</td>\n",
       "    </tr>\n",
       "    <tr>\n",
       "      <th>2</th>\n",
       "      <td>6238</td>\n",
       "      <td>2</td>\n",
       "      <td>250.0</td>\n",
       "      <td>46</td>\n",
       "      <td>121.0</td>\n",
       "      <td>81.0</td>\n",
       "      <td>0</td>\n",
       "      <td>0.0</td>\n",
       "      <td>28.73</td>\n",
       "      <td>0</td>\n",
       "      <td>...</td>\n",
       "      <td>0</td>\n",
       "      <td>0</td>\n",
       "      <td>8766</td>\n",
       "      <td>8766</td>\n",
       "      <td>8766</td>\n",
       "      <td>8766</td>\n",
       "      <td>8766</td>\n",
       "      <td>8766</td>\n",
       "      <td>8766</td>\n",
       "      <td>8766</td>\n",
       "    </tr>\n",
       "    <tr>\n",
       "      <th>3</th>\n",
       "      <td>6238</td>\n",
       "      <td>2</td>\n",
       "      <td>260.0</td>\n",
       "      <td>52</td>\n",
       "      <td>105.0</td>\n",
       "      <td>69.5</td>\n",
       "      <td>0</td>\n",
       "      <td>0.0</td>\n",
       "      <td>29.43</td>\n",
       "      <td>0</td>\n",
       "      <td>...</td>\n",
       "      <td>0</td>\n",
       "      <td>0</td>\n",
       "      <td>8766</td>\n",
       "      <td>8766</td>\n",
       "      <td>8766</td>\n",
       "      <td>8766</td>\n",
       "      <td>8766</td>\n",
       "      <td>8766</td>\n",
       "      <td>8766</td>\n",
       "      <td>8766</td>\n",
       "    </tr>\n",
       "    <tr>\n",
       "      <th>4</th>\n",
       "      <td>6238</td>\n",
       "      <td>2</td>\n",
       "      <td>237.0</td>\n",
       "      <td>58</td>\n",
       "      <td>108.0</td>\n",
       "      <td>66.0</td>\n",
       "      <td>0</td>\n",
       "      <td>0.0</td>\n",
       "      <td>28.50</td>\n",
       "      <td>0</td>\n",
       "      <td>...</td>\n",
       "      <td>0</td>\n",
       "      <td>0</td>\n",
       "      <td>8766</td>\n",
       "      <td>8766</td>\n",
       "      <td>8766</td>\n",
       "      <td>8766</td>\n",
       "      <td>8766</td>\n",
       "      <td>8766</td>\n",
       "      <td>8766</td>\n",
       "      <td>8766</td>\n",
       "    </tr>\n",
       "  </tbody>\n",
       "</table>\n",
       "<p>5 rows × 37 columns</p>\n",
       "</div>"
      ],
      "text/plain": [
       "   RANDID  SEX  TOTCHOL  AGE  SYSBP  DIABP  CURSMOKE  CIGPDAY    BMI  \\\n",
       "0    2448    1    195.0   39  106.0   70.0         0      0.0  26.97   \n",
       "1    2448    1    209.0   52  121.0   66.0         0      0.0  26.97   \n",
       "2    6238    2    250.0   46  121.0   81.0         0      0.0  28.73   \n",
       "3    6238    2    260.0   52  105.0   69.5         0      0.0  29.43   \n",
       "4    6238    2    237.0   58  108.0   66.0         0      0.0  28.50   \n",
       "\n",
       "   DIABETES  ...  CVD  HYPERTEN  TIMEAP  TIMEMI  TIMEMIFC  TIMECHD  TIMESTRK  \\\n",
       "0         0  ...    1         0    8766    6438      6438     6438      8766   \n",
       "1         0  ...    1         0    8766    6438      6438     6438      8766   \n",
       "2         0  ...    0         0    8766    8766      8766     8766      8766   \n",
       "3         0  ...    0         0    8766    8766      8766     8766      8766   \n",
       "4         0  ...    0         0    8766    8766      8766     8766      8766   \n",
       "\n",
       "   TIMECVD  TIMEDTH  TIMEHYP  \n",
       "0     6438     8766     8766  \n",
       "1     6438     8766     8766  \n",
       "2     8766     8766     8766  \n",
       "3     8766     8766     8766  \n",
       "4     8766     8766     8766  \n",
       "\n",
       "[5 rows x 37 columns]"
      ]
     },
     "execution_count": 6,
     "metadata": {},
     "output_type": "execute_result"
    }
   ],
   "source": [
    "df.head()"
   ]
  },
  {
   "cell_type": "code",
   "execution_count": 4,
   "metadata": {},
   "outputs": [],
   "source": [
    "from sklearn.model_selection import train_test_split"
   ]
  },
  {
   "cell_type": "code",
   "execution_count": 9,
   "metadata": {},
   "outputs": [],
   "source": [
    "X = df.drop('CVD', axis=1)\n",
    "y = df['CVD']"
   ]
  },
  {
   "cell_type": "code",
   "execution_count": 10,
   "metadata": {},
   "outputs": [],
   "source": [
    "X_train, X_test, y_train, y_test = train_test_split(X, y, test_size=0.3)"
   ]
  },
  {
   "cell_type": "code",
   "execution_count": 11,
   "metadata": {},
   "outputs": [],
   "source": [
    "from sklearn.ensemble import RandomForestClassifier"
   ]
  },
  {
   "cell_type": "code",
   "execution_count": 12,
   "metadata": {},
   "outputs": [],
   "source": [
    "model = RandomForestClassifier(n_estimators=10,max_features='auto',random_state=101)"
   ]
  },
  {
   "cell_type": "code",
   "execution_count": 13,
   "metadata": {},
   "outputs": [
    {
     "data": {
      "text/plain": [
       "RandomForestClassifier(n_estimators=10, random_state=101)"
      ]
     },
     "execution_count": 13,
     "metadata": {},
     "output_type": "execute_result"
    }
   ],
   "source": [
    "model.fit(X_train,y_train)"
   ]
  },
  {
   "cell_type": "code",
   "execution_count": 14,
   "metadata": {},
   "outputs": [],
   "source": [
    "preds = model.predict(X_test)"
   ]
  },
  {
   "cell_type": "code",
   "execution_count": 15,
   "metadata": {},
   "outputs": [],
   "source": [
    "from sklearn.metrics import confusion_matrix,classification_report,plot_confusion_matrix,accuracy_score"
   ]
  },
  {
   "cell_type": "code",
   "execution_count": 16,
   "metadata": {},
   "outputs": [
    {
     "data": {
      "text/plain": [
       "array([[2524,    4],\n",
       "       [   0,  829]])"
      ]
     },
     "execution_count": 16,
     "metadata": {},
     "output_type": "execute_result"
    }
   ],
   "source": [
    "confusion_matrix(y_test,preds)"
   ]
  },
  {
   "cell_type": "code",
   "execution_count": 17,
   "metadata": {},
   "outputs": [
    {
     "name": "stderr",
     "output_type": "stream",
     "text": [
      "/Users/JoeMcLaughlin/opt/anaconda3/lib/python3.9/site-packages/sklearn/utils/deprecation.py:87: FutureWarning: Function plot_confusion_matrix is deprecated; Function `plot_confusion_matrix` is deprecated in 1.0 and will be removed in 1.2. Use one of the class methods: ConfusionMatrixDisplay.from_predictions or ConfusionMatrixDisplay.from_estimator.\n",
      "  warnings.warn(msg, category=FutureWarning)\n"
     ]
    },
    {
     "data": {
      "text/plain": [
       "<sklearn.metrics._plot.confusion_matrix.ConfusionMatrixDisplay at 0x7fa9123f7c10>"
      ]
     },
     "execution_count": 17,
     "metadata": {},
     "output_type": "execute_result"
    },
    {
     "data": {
      "image/png": "[encoded data removed]",
      "text/plain": [
       "<Figure size 640x480 with 2 Axes>"
      ]
     },
     "metadata": {},
     "output_type": "display_data"
    }
   ],
   "source": [
    "plot_confusion_matrix(model,X_test,y_test)"
   ]
  },
  {
   "cell_type": "code",
   "execution_count": 18,
   "metadata": {},
   "outputs": [
    {
     "data": {
      "text/plain": [
       "array([4.91239570e-03, 6.35333498e-04, 3.95693286e-03, 3.60064282e-03,\n",
       "       5.33225272e-03, 2.88201298e-03, 1.62770176e-04, 1.39402477e-03,\n",
       "       4.38541546e-03, 1.29285803e-04, 6.38155637e-04, 3.60108180e-03,\n",
       "       3.54598798e-03, 1.30390051e-03, 3.60779392e-03, 3.66989217e-03,\n",
       "       1.15073766e-02, 6.73942062e-03, 3.06802082e-04, 1.42162470e-03,\n",
       "       7.74985582e-04, 1.76217419e-02, 6.88959439e-03, 8.66952449e-02,\n",
       "       1.03691686e-01, 1.61433974e-01, 1.28251627e-01, 1.75236357e-03,\n",
       "       3.13770440e-02, 1.51693392e-02, 2.68978066e-02, 1.72584279e-02,\n",
       "       5.93411489e-02, 2.56778455e-01, 1.66399650e-02, 5.69349212e-03])"
      ]
     },
     "execution_count": 18,
     "metadata": {},
     "output_type": "execute_result"
    }
   ],
   "source": [
    "model.feature_importances_"
   ]
  },
  {
   "cell_type": "code",
   "execution_count": 19,
   "metadata": {},
   "outputs": [],
   "source": [
    "test_error = []\n",
    "\n",
    "for n in range(1,40):\n",
    "    # Use n random trees\n",
    "    model = RandomForestClassifier(n_estimators=n,max_features='auto')\n",
    "    model.fit(X_train,y_train)\n",
    "    test_preds = model.predict(X_test)\n",
    "    test_error.append(1-accuracy_score(test_preds,y_test))"
   ]
  },
  {
   "cell_type": "code",
   "execution_count": 20,
   "metadata": {},
   "outputs": [
    {
     "data": {
      "text/plain": [
       "<matplotlib.legend.Legend at 0x7fa913f364c0>"
      ]
     },
     "execution_count": 20,
     "metadata": {},
     "output_type": "execute_result"
    },
    {
     "data": {
      "image/png": "[encoded data removed]",
      "text/plain": [
       "<Figure size 640x480 with 1 Axes>"
      ]
     },
     "metadata": {},
     "output_type": "display_data"
    }
   ],
   "source": [
    "plt.plot(range(1,40),test_error,label='Test Error')\n",
    "plt.legend()"
   ]
  },
  {
   "cell_type": "code",
   "execution_count": null,
   "metadata": {},
   "outputs": [],
   "source": []
  }
 ],
 "metadata": {
  "kernelspec": {
   "display_name": "base",
   "language": "python",
   "name": "python3"
  },
  "language_info": {
   "codemirror_mode": {
    "name": "ipython",
    "version": 3
   },
   "file_extension": ".py",
   "mimetype": "text/x-python",
   "name": "python",
   "nbconvert_exporter": "python",
   "pygments_lexer": "ipython3",
   "version": "3.9.16"
  },
  "orig_nbformat": 4
 },
 "nbformat": 4,
 "nbformat_minor": 2
}
